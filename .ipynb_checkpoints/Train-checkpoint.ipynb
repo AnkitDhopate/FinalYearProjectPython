{
 "cells": [
  {
   "cell_type": "code",
   "execution_count": 1,
   "metadata": {},
   "outputs": [],
   "source": [
    "# import required packages\n",
    "import cv2\n",
    "from keras.models import Sequential\n",
    "from keras.layers import Conv2D, MaxPooling2D, Dense, Dropout, Flatten\n",
    "from keras.optimizers import Adam\n",
    "from keras.preprocessing.image import ImageDataGenerator"
   ]
  },
  {
   "cell_type": "code",
   "execution_count": 2,
   "metadata": {},
   "outputs": [],
   "source": [
    "# Initialize image data generator with rescaling\n",
    "train_data_gen = ImageDataGenerator(rescale=1./255)\n",
    "validation_data_gen = ImageDataGenerator(rescale=1./255)"
   ]
  },
  {
   "cell_type": "code",
   "execution_count": 3,
   "metadata": {},
   "outputs": [
    {
     "name": "stdout",
     "output_type": "stream",
     "text": [
      "Found 17010 images belonging to 3 classes.\n"
     ]
    }
   ],
   "source": [
    "# Preprocess all test images\n",
    "train_generator = train_data_gen.flow_from_directory(\n",
    "        'data/train',\n",
    "        target_size=(48, 48),\n",
    "        batch_size=64,\n",
    "        color_mode=\"grayscale\",\n",
    "        class_mode='categorical')"
   ]
  },
  {
   "cell_type": "code",
   "execution_count": 4,
   "metadata": {},
   "outputs": [
    {
     "name": "stdout",
     "output_type": "stream",
     "text": [
      "Found 4254 images belonging to 3 classes.\n"
     ]
    }
   ],
   "source": [
    "# Preprocess all train images\n",
    "validation_generator = validation_data_gen.flow_from_directory(\n",
    "        'data/test',\n",
    "        target_size=(48, 48),\n",
    "        batch_size=64,\n",
    "        color_mode=\"grayscale\",\n",
    "        class_mode='categorical')\n"
   ]
  },
  {
   "cell_type": "code",
   "execution_count": 5,
   "metadata": {},
   "outputs": [],
   "source": [
    "# create model structure\n",
    "emotion_model = Sequential()"
   ]
  },
  {
   "cell_type": "code",
   "execution_count": 6,
   "metadata": {},
   "outputs": [],
   "source": [
    "emotion_model.add(Conv2D(32, kernel_size=(3, 3), activation='relu', input_shape=(48, 48, 1)))\n",
    "emotion_model.add(Conv2D(64, kernel_size=(3, 3), activation='relu'))\n",
    "emotion_model.add(MaxPooling2D(pool_size=(2, 2)))\n",
    "emotion_model.add(Dropout(0.25))\n",
    "\n",
    "emotion_model.add(Conv2D(128, kernel_size=(3, 3), activation='relu'))\n",
    "emotion_model.add(MaxPooling2D(pool_size=(2, 2)))\n",
    "emotion_model.add(Conv2D(128, kernel_size=(3, 3), activation='relu'))\n",
    "emotion_model.add(MaxPooling2D(pool_size=(2, 2)))\n",
    "emotion_model.add(Dropout(0.25))"
   ]
  },
  {
   "cell_type": "code",
   "execution_count": 7,
   "metadata": {},
   "outputs": [],
   "source": [
    "# emotion_model.add(Flatten())\n",
    "# emotion_model.add(Dense(1024, activation='relu'))\n",
    "# emotion_model.add(Dropout(0.5))\n",
    "# emotion_model.add(Dense(7, activation='softmax'))\n",
    "\n",
    "emotion_model.add(Flatten())\n",
    "emotion_model.add(Dense(1024, activation='relu'))\n",
    "emotion_model.add(Dropout(0.5))\n",
    "emotion_model.add(Dense(3, activation='softmax'))"
   ]
  },
  {
   "cell_type": "code",
   "execution_count": 8,
   "metadata": {},
   "outputs": [],
   "source": [
    "cv2.ocl.setUseOpenCL(False)"
   ]
  },
  {
   "cell_type": "code",
   "execution_count": 9,
   "metadata": {},
   "outputs": [
    {
     "name": "stderr",
     "output_type": "stream",
     "text": [
      "C:\\Users\\ankit\\anaconda3\\lib\\site-packages\\keras\\optimizers\\optimizer_v2\\adam.py:114: UserWarning: The `lr` argument is deprecated, use `learning_rate` instead.\n",
      "  super().__init__(name, **kwargs)\n"
     ]
    }
   ],
   "source": [
    "emotion_model.compile(loss='categorical_crossentropy', optimizer=Adam(lr=0.0001, decay=1e-6), metrics=['accuracy'])"
   ]
  },
  {
   "cell_type": "code",
   "execution_count": 10,
   "metadata": {},
   "outputs": [
    {
     "name": "stderr",
     "output_type": "stream",
     "text": [
      "<ipython-input-10-47bda955c933>:2: UserWarning: `Model.fit_generator` is deprecated and will be removed in a future version. Please use `Model.fit`, which supports generators.\n",
      "  emotion_model_info = emotion_model.fit_generator(\n"
     ]
    },
    {
     "name": "stdout",
     "output_type": "stream",
     "text": [
      "Epoch 1/25\n",
      "265/265 [==============================] - 294s 1s/step - loss: 1.0756 - accuracy: 0.4251 - val_loss: 1.0644 - val_accuracy: 0.4384\n",
      "Epoch 2/25\n",
      "265/265 [==============================] - 158s 595ms/step - loss: 0.9758 - accuracy: 0.5220 - val_loss: 0.9057 - val_accuracy: 0.5930\n",
      "Epoch 3/25\n",
      "265/265 [==============================] - 291s 1s/step - loss: 0.8834 - accuracy: 0.5928 - val_loss: 0.8288 - val_accuracy: 0.6259\n",
      "Epoch 4/25\n",
      "265/265 [==============================] - 224s 846ms/step - loss: 0.8234 - accuracy: 0.6213 - val_loss: 0.7793 - val_accuracy: 0.6463\n",
      "Epoch 5/25\n",
      "265/265 [==============================] - 230s 869ms/step - loss: 0.7788 - accuracy: 0.6413 - val_loss: 0.7531 - val_accuracy: 0.6600\n",
      "Epoch 6/25\n",
      "265/265 [==============================] - 255s 965ms/step - loss: 0.7493 - accuracy: 0.6622 - val_loss: 0.7372 - val_accuracy: 0.6605\n",
      "Epoch 7/25\n",
      "265/265 [==============================] - 174s 656ms/step - loss: 0.7230 - accuracy: 0.6757 - val_loss: 0.7095 - val_accuracy: 0.6759\n",
      "Epoch 8/25\n",
      "265/265 [==============================] - 171s 647ms/step - loss: 0.7020 - accuracy: 0.6874 - val_loss: 0.6906 - val_accuracy: 0.6825\n",
      "Epoch 9/25\n",
      "265/265 [==============================] - 184s 696ms/step - loss: 0.6795 - accuracy: 0.6972 - val_loss: 0.6704 - val_accuracy: 0.6948\n",
      "Epoch 10/25\n",
      "265/265 [==============================] - 206s 779ms/step - loss: 0.6604 - accuracy: 0.7072 - val_loss: 0.6645 - val_accuracy: 0.6974\n",
      "Epoch 11/25\n",
      "265/265 [==============================] - 205s 776ms/step - loss: 0.6416 - accuracy: 0.7184 - val_loss: 0.6616 - val_accuracy: 0.7003\n",
      "Epoch 12/25\n",
      "265/265 [==============================] - 180s 678ms/step - loss: 0.6246 - accuracy: 0.7270 - val_loss: 0.6501 - val_accuracy: 0.7069\n",
      "Epoch 13/25\n",
      "265/265 [==============================] - 178s 670ms/step - loss: 0.6123 - accuracy: 0.7349 - val_loss: 0.6271 - val_accuracy: 0.7235\n",
      "Epoch 14/25\n",
      "265/265 [==============================] - 189s 714ms/step - loss: 0.5928 - accuracy: 0.7426 - val_loss: 0.6281 - val_accuracy: 0.7228\n",
      "Epoch 15/25\n",
      "265/265 [==============================] - 208s 782ms/step - loss: 0.5812 - accuracy: 0.7497 - val_loss: 0.6144 - val_accuracy: 0.7325\n",
      "Epoch 16/25\n",
      "265/265 [==============================] - 187s 705ms/step - loss: 0.5668 - accuracy: 0.7589 - val_loss: 0.6145 - val_accuracy: 0.7294\n",
      "Epoch 17/25\n",
      "265/265 [==============================] - 174s 658ms/step - loss: 0.5531 - accuracy: 0.7638 - val_loss: 0.6000 - val_accuracy: 0.7417\n",
      "Epoch 18/25\n",
      "265/265 [==============================] - 163s 614ms/step - loss: 0.5444 - accuracy: 0.7678 - val_loss: 0.5995 - val_accuracy: 0.7386\n",
      "Epoch 19/25\n",
      "265/265 [==============================] - 154s 581ms/step - loss: 0.5253 - accuracy: 0.7782 - val_loss: 0.6063 - val_accuracy: 0.7311\n",
      "Epoch 20/25\n",
      "265/265 [==============================] - 151s 570ms/step - loss: 0.5166 - accuracy: 0.7828 - val_loss: 0.5960 - val_accuracy: 0.7438\n",
      "Epoch 21/25\n",
      "265/265 [==============================] - 155s 584ms/step - loss: 0.5069 - accuracy: 0.7880 - val_loss: 0.5940 - val_accuracy: 0.7434\n",
      "Epoch 22/25\n",
      "265/265 [==============================] - 173s 654ms/step - loss: 0.4914 - accuracy: 0.7970 - val_loss: 0.6076 - val_accuracy: 0.7429\n",
      "Epoch 23/25\n",
      "265/265 [==============================] - 168s 633ms/step - loss: 0.4787 - accuracy: 0.8002 - val_loss: 0.5957 - val_accuracy: 0.7450\n",
      "Epoch 24/25\n",
      "265/265 [==============================] - 190s 717ms/step - loss: 0.4714 - accuracy: 0.8023 - val_loss: 0.5926 - val_accuracy: 0.7467\n",
      "Epoch 25/25\n",
      "265/265 [==============================] - 186s 704ms/step - loss: 0.4654 - accuracy: 0.8063 - val_loss: 0.6070 - val_accuracy: 0.7401\n"
     ]
    }
   ],
   "source": [
    "# Train the neural network/model\n",
    "emotion_model_info = emotion_model.fit_generator(\n",
    "        train_generator,\n",
    "        steps_per_epoch=17010 // 64,  #448\n",
    "        epochs=25,\n",
    "        validation_data=validation_generator,\n",
    "        validation_steps=4254 // 64)  #112"
   ]
  },
  {
   "cell_type": "code",
   "execution_count": 11,
   "metadata": {},
   "outputs": [],
   "source": [
    "# save model structure in json file\n",
    "model_json = emotion_model.to_json()\n",
    "with open(\"new_emotion_model.json\", \"w\") as json_file:\n",
    "    json_file.write(model_json)"
   ]
  },
  {
   "cell_type": "code",
   "execution_count": 12,
   "metadata": {},
   "outputs": [],
   "source": [
    "# save trained model weight in .h5 file\n",
    "emotion_model.save_weights('new_emotion_model.h5')"
   ]
  },
  {
   "cell_type": "code",
   "execution_count": null,
   "metadata": {},
   "outputs": [],
   "source": []
  }
 ],
 "metadata": {
  "kernelspec": {
   "display_name": "Python 3",
   "language": "python",
   "name": "python3"
  },
  "language_info": {
   "codemirror_mode": {
    "name": "ipython",
    "version": 3
   },
   "file_extension": ".py",
   "mimetype": "text/x-python",
   "name": "python",
   "nbconvert_exporter": "python",
   "pygments_lexer": "ipython3",
   "version": "3.8.5"
  }
 },
 "nbformat": 4,
 "nbformat_minor": 4
}
